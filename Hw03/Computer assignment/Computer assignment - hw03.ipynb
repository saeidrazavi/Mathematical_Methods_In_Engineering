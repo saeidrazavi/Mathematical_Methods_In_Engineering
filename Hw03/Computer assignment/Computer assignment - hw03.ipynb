{
  "cells": [
    {
      "attachments": {},
      "cell_type": "markdown",
      "metadata": {
        "id": "aMv2almRJGdJ"
      },
      "source": [
        "\n",
        "**Mathematical Methods In Engineering - Computer assignment**\n",
        "\n",
        "\n",
        "\n",
        "\n"
      ]
    },
    {
      "cell_type": "code",
      "execution_count": 1,
      "metadata": {
        "id": "CELe2yckKYJz"
      },
      "outputs": [],
      "source": [
        "import numpy as np \n",
        "import copy\n",
        "from numpy.linalg import matrix_power as power\n",
        "from numpy.linalg import inv as inv\n",
        "from numpy import diag as diag\n",
        "from numpy.linalg import norm as norm\n",
        "from numpy import transpose as transpose\n",
        "from numpy import linalg as LA"
      ]
    },
    {
      "attachments": {},
      "cell_type": "markdown",
      "metadata": {
        "id": "ZpgGg5O6ILe3"
      },
      "source": [
        "**In this exercise, we will examine a method of calculating eigenvalues and eigenvectors of a matrix numerically.**\n",
        "**First, in the following section, we make a 3x3 diagonal matrix.**\n"
      ]
    },
    {
      "cell_type": "code",
      "execution_count": 2,
      "metadata": {
        "colab": {
          "base_uri": "https://localhost:8080/"
        },
        "id": "sYZSIMs6KE_m",
        "outputId": "4781f929-126d-4b6e-cf5d-c3b9d682a245"
      },
      "outputs": [
        {
          "name": "stdout",
          "output_type": "stream",
          "text": [
            "A =  [[ 6.83979773e+00  3.39539543e-02  3.60836453e-01]\n",
            " [ 3.39539543e-02  6.45312982e+00 -1.24435897e-03]\n",
            " [ 3.60836453e-01 -1.24435897e-03  7.47944377e+00]]\n"
          ]
        }
      ],
      "source": [
        "## Do not change anything in this section!\n",
        "\n",
        "W = np.random.randn(3,3)\n",
        "Q,R = np.linalg.qr(W)\n",
        "\n",
        "D = np.random.uniform(low = 1, high = 10, size = 3)\n",
        "D = D * np.random.choice([-1,1],3)\n",
        "\n",
        "A = Q @ np.diag(D) @ Q.T\n",
        "\n",
        "print(\"A = \",A)"
      ]
    },
    {
      "attachments": {},
      "cell_type": "markdown",
      "metadata": {
        "id": "XSU5nttoNxfE"
      },
      "source": [
        "**Diagonalize the matrix A using `np.linalg.eig`. At this stage, it is sufficient to return a diagonal matrix of eigenvalues called D and a matrix V containing eigenvectors. Also, reconstruct matrix A using the obtained values and compare with the previous part.**"
      ]
    },
    {
      "cell_type": "code",
      "execution_count": 3,
      "metadata": {
        "colab": {
          "base_uri": "https://localhost:8080/"
        },
        "id": "ooplkgqiJF_W",
        "outputId": "81285e88-b88a-4b2e-8c5b-80ff315def30"
      },
      "outputs": [
        {
          "name": "stdout",
          "output_type": "stream",
          "text": [
            "Eigenvalues =  [[7.64193049 6.68177834 6.44866249]] \n",
            "\n",
            "Eigenvectors = \n",
            " [[ 0.41060354  0.90269388  0.12864094]\n",
            " [ 0.0107731   0.13626982 -0.99061318]\n",
            " [ 0.91175034 -0.40813514 -0.04622806]] \n",
            "\n",
            "B =  [[6.64986888 0.44262617 0.06054111]\n",
            " [0.44262617 7.42533321 0.10709785]\n",
            " [0.06054111 0.10709785 6.69716924]]\n"
          ]
        }
      ],
      "source": [
        "# Complete this part!\n",
        "\n",
        "## your code here\n",
        "\n",
        "w, v = LA.eig(A)\n",
        "\n",
        "D = diag(w)\n",
        "V = v\n",
        "B = inv(V)@D@V\n",
        "\n",
        "print(\"Eigenvalues = \", (D @ np.array([[1],[1],[1]])).T,\"\\n\") \n",
        "print(\"Eigenvectors = \\n\", V,\"\\n\")\n",
        "print(\"B = \", B)\n",
        "\n"
      ]
    },
    {
      "attachments": {},
      "cell_type": "markdown",
      "metadata": {
        "id": "Iq68Uxe-WEgR"
      },
      "source": [
        "**Note that matrix A when multiplied by any other non-zero vector results in a non-zero vector. (Why?) Create an arbitrary non-zero vector called x and multiply the matrix A by it. Also normalize the response. Repeat the same for higher powers of A such as 2, 10, 15 and 50. In this part, you can use the `matrix_power` function.**"
      ]
    },
    {
      "cell_type": "code",
      "execution_count": 4,
      "metadata": {
        "colab": {
          "base_uri": "https://localhost:8080/"
        },
        "id": "Lqein5_XJDso",
        "outputId": "29b2e5ff-02f8-429d-fc2e-67ff29d177f5"
      },
      "outputs": [
        {
          "name": "stdout",
          "output_type": "stream",
          "text": [
            "x1 =  [0.76244505 0.63452497 0.1267107 ] \n",
            "\n",
            "x2 =  [0.77568344 0.60507097 0.17945562] \n",
            "\n",
            "x10 =  [0.71782874 0.29892873 0.62877938] \n",
            "\n",
            "x15 =  [0.60183929 0.15279583 0.78386409] \n",
            "\n",
            "x50 =  [0.41264601 0.01138491 0.91082032] \n",
            "\n"
          ]
        }
      ],
      "source": [
        "# Complete this part!\n",
        "\n",
        "x = np.random.rand(3)# your code here\n",
        "\n",
        "x1 = power(A, 1)@x/norm(power(A, 1)@x) # your code here\n",
        "x2 = power(A, 2)@x/norm(power(A, 2)@x) # your code here\n",
        "x10 = power(A, 10)@x/norm(power(A, 10)@x) # your code here\n",
        "x15 = power(A, 15)@x/norm(power(A, 15)@x) # your code here\n",
        "x50 = power(A, 50)@x/norm(power(A, 50)@x) # your code here\n",
        "\n",
        "print(\"x1 = \",x1,\"\\n\")\n",
        "print(\"x2 = \",x2,\"\\n\")\n",
        "print(\"x10 = \",x10,\"\\n\")\n",
        "print(\"x15 = \",x15,\"\\n\")\n",
        "print(\"x50 = \",x50,\"\\n\")"
      ]
    },
    {
      "attachments": {},
      "cell_type": "markdown",
      "metadata": {
        "id": "yHhyx4Hya8rM"
      },
      "source": [
        "**What pattern do you see as the power of A increases? Pay attention to the matrix containing  eigenvectors and compare it with the resulting vectors from this section. The vector resulting from this process corresponds to which eigenvalue? To be sure of the correct extraction, you can rerun the first part and repeat the process with the new matrix.Using this result above, find the largest eigenvalue of A and its corresponding eigenvector. According to the presented method, this value is approximate**\n"
      ]
    },
    {
      "cell_type": "code",
      "execution_count": 6,
      "metadata": {
        "colab": {
          "base_uri": "https://localhost:8080/"
        },
        "id": "8yLS1xgoinp8",
        "outputId": "0ede6f9d-4d96-4cb3-dae1-ebe7079c0cc0"
      },
      "outputs": [
        {
          "name": "stdout",
          "output_type": "stream",
          "text": [
            "Lambda =  7.641930488906758\n",
            "Eigenvector: \n",
            "  [0.41060323 0.01077308 0.91175048]\n"
          ]
        }
      ],
      "source": [
        "# Complete this part!\n",
        "## you code here\n",
        "#generate random vector \n",
        "x=np.random.rand(3)\n",
        "#---------------------\n",
        "v = power(A, 100)@x/norm(power(A, 100)@x) # your code here eigenvector\n",
        "Lambda = norm(A@v)/norm(v)*np.sign((A@v)[0]/v[0]) # your code here corresponding Eigenvalue\n",
        "#---------------------\n",
        "print(\"Lambda = \", Lambda)\n",
        "print(\"Eigenvector: \\n \", v)\n"
      ]
    },
    {
      "attachments": {},
      "cell_type": "markdown",
      "metadata": {
        "id": "UYRFKEV1jgLB"
      },
      "source": [
        "**So far, we were able to obtain the largest eigenvalue (in terms of absolute value) and its corresponding eigenvector. Now we want to use this method to calculate other eigenvalues and eigenvectors of the matrix. For this purpose, note that the diagonalization of the matrix is equivalent to the sum of n or less of the matrix with rank 1. The following relationship shows this:**\n"
      ]
    },
    {
      "cell_type": "markdown",
      "metadata": {
        "id": "csqcgzt9qdP9"
      },
      "source": [
        "![lagrida_latex_editor (1).png](data:image/png;base64,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)"
      ]
    },
    {
      "attachments": {},
      "cell_type": "markdown",
      "metadata": {
        "id": "Xpygew9Grcdj"
      },
      "source": [
        "**In the above relation, 𝒰ᵢᵀ is the i-th row of the inverse of matrix V. As a result, using the above relation, we can find a matrix whose largest eigenvalue is the second largest eigenvalue of matrix A. In fact, it is sufficient that A minus one becomes a rank one matrix. As a result, by continuing this process, the eigenvalues and eigenvectors of A can be obtained**\n"
      ]
    },
    {
      "cell_type": "code",
      "execution_count": 31,
      "metadata": {
        "id": "Aaojiw2UslPL"
      },
      "outputs": [],
      "source": [
        "# Complete this part!\n",
        "def eigen(A):\n",
        "  # input: square matrix A\n",
        "  # output: diagonal matrix D & eigenvector matrix V\n",
        "  # NOTE: the equation \"A = V @ D @ np.linalg.inv(V)\" must hold \n",
        "  dim=A.shape[0]\n",
        "  eigenvalues_list=[]\n",
        "  eigen_vector=np.zeros_like(A)\n",
        "  B=np.copy(A)\n",
        "  for i in range(A.shape[0]):\n",
        "    # your code here\n",
        "    x=np.random.rand(3)\n",
        "    #---------------------\n",
        "    v = power(B, 100)@x/norm(power(B, 100)@x) # your code here eigenvector\n",
        "    Lambda = norm(B@v)/norm(v)*np.sign((B@v)[0]/v[0]) # your code here corresponding \n",
        "    #----------------------\n",
        "    eigen_vector[:,i]=v\n",
        "    eigenvalues_list.append(Lambda)\n",
        "    #-----------------------  \n",
        "    #--------------------\n",
        "    B=B-Lambda*np.outer(v,transpose(v))\n",
        "   \n",
        "  D=np.diag(np.array(eigenvalues_list)) \n",
        "  V=eigen_vector\n",
        "  return D, V"
      ]
    },
    {
      "cell_type": "code",
      "execution_count": 32,
      "metadata": {
        "colab": {
          "base_uri": "https://localhost:8080/"
        },
        "id": "Ow1YuvGOxqHo",
        "outputId": "5f64991a-f8a8-49a9-aec4-32b1e2917eb7"
      },
      "outputs": [
        {
          "name": "stdout",
          "output_type": "stream",
          "text": [
            "eigenvalues in diagonal matrix form \n",
            "\n",
            "[[7.64193049 0.         0.        ]\n",
            " [0.         6.68176553 0.        ]\n",
            " [0.         0.         6.44867601]]\n",
            "\n",
            "eigenvectors \n",
            "\n",
            "[[ 0.41060313  0.9017065  -0.13563401]\n",
            " [ 0.01077305  0.14367655  0.98952717]\n",
            " [ 0.91175052 -0.40777742  0.04939018]]\n"
          ]
        }
      ],
      "source": [
        "d,v=eigen(A)\n",
        "print(\"eigenvalues in diagonal matrix form \\n\")\n",
        "print(f\"{d}\\n\")\n",
        "#----------------------\n",
        "print(\"eigenvectors \\n\")\n",
        "print(v)\n"
      ]
    },
    {
      "attachments": {},
      "cell_type": "markdown",
      "metadata": {
        "id": "679X5K9gvz7H"
      },
      "source": [
        "\n",
        "\n",
        "## proof of above algorithm \n",
        "\n",
        "suppose any arbitrary vector $x$ \n",
        "\n",
        "we know that eigenvector of unique eigenvalues are orthonormal (they are linearly independet) . so we can write x in the following form : \n",
        "\n",
        "$x=c_{1}v_{1}+c_{2}v_{2}+⋯+c_{n}v_{n}$\n",
        "\n",
        "\n",
        "Multiplying both sides by $A^{k}$ gives :\n",
        "\n",
        "* we know that $A^{K}$ has same eigenvector as $A$ . also correspond to each $λ_{i}$ for $A$, $A^{K}$ has eigenvalue equals to $λ_{i}^{k}$ . so we have :  \n",
        "\n",
        "$A^{K}x=A^{k}(c_{1}v_{1}+c_{2}v_{2}+⋯+c_{n}v_{n})=c_{1}λ_{1}^{k}v_{1}+c_{2}λ_{2}^{k}v_{2}+⋯+c_{n}λ_{n}^{k}v_{n}$\n",
        "\n",
        "\n",
        "* factorization from largest eigenvalue ( assume that λ_{1} is largest) : \n",
        "  \n",
        "  $A^{K}x=λ_{1}^{k}(c_{1}v_{1}+c_{2}(\\frac{λ_{2}}{λ_{1}})^{k}v_{2}+⋯+c_{n}(\\frac{λ_{n}}{λ_{1}})^{k}v_{n})$\n",
        "\n",
        "* Since the $λ_{1}$ is largest eigenvalue, for each $i$, $(\\frac{λ_{2}}{λ_{1}})^{k}\\rightarrow\\infty$ as $k→∞. $ so we have :\n",
        "\n",
        "$A^{k}x=c_{1}λ_{1}^{k}v_{1}$\n",
        "\n",
        "we know that $v_{1}$ is unitary vector. so if we normilize above equation, we reach $v_{1}$"
      ]
    }
  ],
  "metadata": {
    "colab": {
      "provenance": []
    },
    "kernelspec": {
      "display_name": "Python 3",
      "name": "python3"
    },
    "language_info": {
      "name": "python"
    }
  },
  "nbformat": 4,
  "nbformat_minor": 0
}
