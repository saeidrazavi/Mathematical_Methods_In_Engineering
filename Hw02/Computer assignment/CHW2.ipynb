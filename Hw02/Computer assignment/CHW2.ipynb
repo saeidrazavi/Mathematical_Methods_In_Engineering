{
  "cells": [
    {
      "cell_type": "markdown",
      "metadata": {
        "id": "4082b8b3"
      },
      "source": [
        "# Python Assignment 2\n",
        "\n",
        "### Prof. S. Amini\n",
        "\n",
        "### Mathematical Methods In Engineering - 1401-01\n",
        "\n",
        "### Deadline: ?\n",
        "\n",
        "___\n",
        "\n",
        "### Householder Transformation\n",
        "In this assignment we become familiar with QR factorization, The algorithm we want to use for the first question is the \"householder transformation\".\n",
        "As you learned in the previous assignment, we can use the Gauss's transformation to eliminate the elements below matrix pivots. Householder transformation can be used like that, but with a partially different approach.\n",
        "\n",
        "let <b>v</b> be an arbitrary vector and $$v\\neq0$$ we call P the householder matrix if:$$P = I-\\beta vv^T  ,     \n",
        " \\beta=\\frac{2}{v^Tv}$$\n",
        "___ \n",
        "\n",
        "1. prove that HH matrix is an orthogonal matrix.\n",
        "\n",
        "first , we  show that HH is symetric : \n",
        " $$H_{T} = (I − ρuu^{T})^{T} = I_{T} − ρ(u^{T})^{T} u^{T} = I − ρuu^{T} = H$$\n",
        "\n",
        " so : \n",
        "\n",
        "$$ HH^{T} = HH $$\n",
        "\n",
        "$$= (I − \\frac{2uu^{T}}{u^{T}u})(I − \\frac{2uu^{T}}{u^{T}u})$$\n",
        "\n",
        "$$= I − \\frac{4uu^{T}}{u^{T}u} + \\frac{4u(u^{T}u)u^{T}}{(u^{T}u)^{2}}$$\n",
        "\n",
        "$$= I − \\frac{4uu^{T}}\n",
        "{u^{T}u} + \\frac{4uu^{T}}\n",
        "{u^{T}u}\n",
        "= I$$\n",
        "\n",
        "**Since $HH^{T}= I$, we can conclude that the matrix $H$ is orthogonal**\n",
        "\n",
        "2. if $\\textbf{Q}\\textbf{Q}{^T}={I}$ show that:$$||Q \\textbf x ||=||\\textbf x ||$$\n",
        "\n",
        "$$Proof :$$\n",
        "\n",
        "$$||Qx||=(Qx,Qx)=(Qx)^{T}(Qx)=x^{T}Q^{T}QX =x^{T}x=||x||$$\n",
        "____\n",
        "note:\n",
        "\n",
        "\n",
        "if we have $\\textbf P\\textbf s=\\textbf t$ which ||<b>s</b>||=||<b>t</b>|| and <b>s</b>$\\neq$<b>t</b> we can choose:\n",
        "\n",
        "$$\\textbf{v}=\\textbf{t}-\\textbf{x}$$\n",
        "___"
      ],
      "id": "4082b8b3"
    },
    {
      "cell_type": "markdown",
      "metadata": {
        "id": "70ae7ba4"
      },
      "source": [
        "### 1. QR factorization\n",
        "\n",
        "$\\textbf {Definition}$ All $\\textbf{A}_{m\\times n}$ matrix have QR factorization where Q is an orthonormal matrix and R is an upper triangular matrix.$$A=QR$$\n",
        "\n",
        "Using the HH matrix, complete the code cells below to create an algorithm for finding QR factorization of matrix A."
      ],
      "id": "70ae7ba4"
    },
    {
      "cell_type": "code",
      "execution_count": 1,
      "metadata": {
        "id": "158d798c"
      },
      "outputs": [],
      "source": [
        "# import numpy package\n",
        "import numpy as np"
      ],
      "id": "158d798c"
    },
    {
      "cell_type": "code",
      "source": [
        "def column_convertor(x):\n",
        "    \"\"\"\n",
        "    Converts 1d array to column vector\n",
        "    \"\"\"\n",
        "    x.shape = (1, x.shape[0])\n",
        "    return x"
      ],
      "metadata": {
        "id": "sY40_Mj1HlR3"
      },
      "id": "sY40_Mj1HlR3",
      "execution_count": 2,
      "outputs": []
    },
    {
      "cell_type": "code",
      "execution_count": 3,
      "metadata": {
        "id": "e2393cbb"
      },
      "outputs": [],
      "source": [
        "def my_QR(A):\n",
        "    \"\"\"\n",
        "    inputs:\n",
        "        A (numpy ndarray): input matrix\n",
        "    outputs:\n",
        "        Q (numpy ndarray): orthonormal matrix\n",
        "        R (numpy ndarray): upper triangular matrix\n",
        "    \n",
        "    \"\"\"\n",
        "    ### To Do ###\n",
        "    m,n=A.shape\n",
        "    max_iter=min(n,m)\n",
        "    R=np.copy(A)\n",
        "    Q=np.identity(m)\n",
        "\n",
        "    for i in range(max_iter):\n",
        "\n",
        "        v = column_convertor(R[i:, i])\n",
        "        e1 = np.zeros_like(v)\n",
        "        e1[0, 0] = 1       \n",
        "        u=(v+np.linalg.norm(v)*e1).astype(np.float32) if v[0,0]>=0 else (v-np.linalg.norm(v)*e1).astype(np.float32)\n",
        "        H = np.identity(v.shape[1]) - ((2 * np.matmul(np.transpose(u),u)) / np.matmul(u,np.transpose(u)))   \n",
        "        extended_matrix=np.identity(m)\n",
        "        extended_matrix[i:,i:]=np.copy(H)\n",
        "        hh_mat=np.copy(extended_matrix)\n",
        "        R=np.matmul(hh_mat, R)\n",
        "        Q = np.matmul(Q, hh_mat)\n",
        "\n",
        "  \n",
        "\n",
        "    return Q,R\n"
      ],
      "id": "e2393cbb"
    },
    {
      "cell_type": "code",
      "execution_count": 4,
      "metadata": {
        "colab": {
          "base_uri": "https://localhost:8080/"
        },
        "id": "37e84a0c",
        "outputId": "cb69d129-56ff-44ba-e8a3-29188d570bcb"
      },
      "outputs": [
        {
          "output_type": "stream",
          "name": "stdout",
          "text": [
            "numpy| test ---> {'upper-triangular and  orthogonal test error': 4.049970718520715e-15, 'correctness test error': 2.1494526630696548e-14}\n",
            "yours| test ---> {'upper-triangular and  orthogonal test error': 2.8356277223906414e-06, 'correctness test error': 7.109472219781566e-06}\n",
            "yours| check ---> {'upper-triangular and  orthogonal test error': True, 'correctness test error': True}\n"
          ]
        }
      ],
      "source": [
        "# time and correctness test\n",
        "numpy_test = {'upper-triangular and  orthogonal test error':0.0, 'correctness test error':0.0}\n",
        "yours_test = {'upper-triangular and  orthogonal test error':0.0, 'correctness test error':0.0}\n",
        "\n",
        "num_test = 50\n",
        "for i in range(num_test):\n",
        "    m, n = np.random.randint(40, 50), np.random.randint(40, 50)\n",
        "    A = np.random.randn(m,n)\n",
        "\n",
        "    # numpy code\n",
        "    Q, R = np.linalg.qr(A.copy(), mode='complete')\n",
        "    numpy_test['upper-triangular and  orthogonal test error'] += np.linalg.norm(np.tril(R,-1)) + np.linalg.norm(np.eye(m) - Q @ Q.T)\n",
        "    numpy_test['correctness test error'] += np.linalg.norm(A - Q @ R)\n",
        "\n",
        "     ### To Do ###\n",
        "    \n",
        "    my_Q, my_R = my_QR(A.copy())\n",
        "    yours_test['upper-triangular and  orthogonal test error'] += np.linalg.norm(np.tril(my_R,-1)) + np.linalg.norm(np.eye(m) - my_Q @ my_Q.T)\n",
        "    yours_test['correctness test error'] += np.linalg.norm(A - my_Q @ my_R)\n",
        "\n",
        "for name in numpy_test:\n",
        "    numpy_test[name] /= num_test\n",
        "    yours_test[name] /= num_test\n",
        "\n",
        "yours_check = {'upper-triangular and  orthogonal test error': yours_test['upper-triangular and  orthogonal test error'] <= 1e-5, \n",
        "               'correctness test error': yours_test['correctness test error'] <= 1e-5}\n",
        "\n",
        "print(f'numpy| test ---> {numpy_test}')\n",
        "print(f'yours| test ---> {yours_test}')\n",
        "print(f'yours| check ---> {yours_check}')"
      ],
      "id": "37e84a0c"
    },
    {
      "cell_type": "markdown",
      "metadata": {
        "id": "c86b571f"
      },
      "source": [
        "### Least Squares\n",
        "As you learned in the course, the least squares method is a way of estimating a function given sample points $$(x_i, y_i), \\quad  0 \\leq i \\leq n$$ with the assumption of linearity of the underlying function.\n",
        "1. Create n=10 sample points $(x_i, y_i)$ where $$y_i = 2x_i + 3 + \\epsilon_i$$ $\\epsilon_i$ is an error term (measurement error etc.) added to $y_i$ and is modeled by random variables: $\\epsilon_i \\stackrel{iid}{\\sim} \\mathcal{N}(0, 1) $  . The x's should range from 0 to 5 and be evenly spaced (hint: use numpy's linspace function)\n",
        "\n",
        "2. Given the samples of the previous part, try to estimate a linear function that models the relationship between $x_i$'s and $y_i$'s using the least squares method (find a and b such that the error function $\\sum_{i=0}^{n-1} ||ax_i + b - y_i||^2$ is minimized)\n",
        "\n",
        "3. Plot the sample points and the line you estimated in the previous part in the same graph using matplotlib.\n",
        "\n",
        "4. Plot the error function $\\sum_{i=0}^{n-1} ||ax_i + b - y_i||^2$ as a function of n where $10\\leq n \\leq 50$ and a and b are the least squares estimates of the line $ax + b = y$.\n",
        "\n",
        "5. Repeat part 1 but this time create n=20 sample points with a quadratic term added to y: $$y_i = x^2_i + 2x_i + 3 + \\epsilon_i$$ $\\epsilon_i$ has the same distribution as before and x's range from 0 to 5 likewise.\n",
        "\n",
        "6. Try to use the least squares method to estimate the coefficients of the quadratic function given the sample points of part 5 (hint: in the least squares method we minimze the norm of the error vector $||Ax-y||^2$. Add a column to matrix A for the quadratic terms and then try to minimize the error function using the least squares method).\n",
        "\n",
        "7. Repeat part 3 for the estimated quadratic function of the previous part."
      ],
      "id": "c86b571f"
    },
    {
      "cell_type": "code",
      "execution_count": 5,
      "metadata": {
        "id": "860a42c2"
      },
      "outputs": [],
      "source": [
        "import numpy as np\n",
        "import matplotlib.pyplot as plt"
      ],
      "id": "860a42c2"
    },
    {
      "cell_type": "code",
      "execution_count": 6,
      "metadata": {
        "id": "I-UPf3NADeCq"
      },
      "outputs": [],
      "source": [
        "def func1(x) : \n",
        "  noise = np.random.normal(0,1,size=len(x))\n",
        "  return 2*x+3+noise\n",
        "\n",
        "def func2(x):\n",
        "  noise = np.random.normal(0,1,size=len(x))\n",
        "  return x**2+2*x+3+noise\n",
        "\n",
        "def eror_cal(x,y,y_prime):\n",
        "    eror=np.sum([np.abs(y[i]-y_prime[i])**2 for i in range(len(x))]) #mean sum squared eror\n",
        "    eror/=len(x)\n",
        "    return eror"
      ],
      "id": "I-UPf3NADeCq"
    },
    {
      "cell_type": "markdown",
      "metadata": {
        "id": "5zhPN-oWTIHg"
      },
      "source": [
        "##**linear function analysis**"
      ],
      "id": "5zhPN-oWTIHg"
    },
    {
      "cell_type": "code",
      "execution_count": 7,
      "metadata": {
        "colab": {
          "base_uri": "https://localhost:8080/",
          "height": 282
        },
        "id": "4Rxj5RSlTL2R",
        "outputId": "f8ed5bd1-f49d-4c2f-fe23-bde8d514bb77"
      },
      "outputs": [
        {
          "output_type": "execute_result",
          "data": {
            "text/plain": [
              "<matplotlib.legend.Legend at 0x7faeed38d390>"
            ]
          },
          "metadata": {},
          "execution_count": 7
        },
        {
          "output_type": "display_data",
          "data": {
            "text/plain": [
              "<Figure size 432x288 with 1 Axes>"
            ],
            "image/png": "[encoded data removed]"
          },
          "metadata": {
            "needs_background": "light"
          }
        }
      ],
      "source": [
        "x=np.linspace(0,5,num=10)\n",
        "y=func1(x)\n",
        "\n",
        "A=np.vstack([x, np.ones(len(x))]).T\n",
        "m, c = np.linalg.lstsq(A, y, rcond=None)[0]\n",
        "\n",
        "plt.figure()\n",
        "plt.scatter(x,y,color=\"red\")\n",
        "plt.plot(x,m*x+c,color=\"blue\")\n",
        "plt.legend([\"quadratic function\",\"estimated function\"])"
      ],
      "id": "4Rxj5RSlTL2R"
    },
    {
      "cell_type": "code",
      "execution_count": 8,
      "metadata": {
        "colab": {
          "base_uri": "https://localhost:8080/",
          "height": 298
        },
        "id": "dPwUxgHITOfH",
        "outputId": "ac013a45-1691-4f2c-e3a8-53ae420df9b1"
      },
      "outputs": [
        {
          "output_type": "execute_result",
          "data": {
            "text/plain": [
              "Text(0.5, 1.0, 'eror vs number of generating points')"
            ]
          },
          "metadata": {},
          "execution_count": 8
        },
        {
          "output_type": "display_data",
          "data": {
            "text/plain": [
              "<Figure size 432x288 with 1 Axes>"
            ],
            "image/png": "[encoded data removed]"
          },
          "metadata": {
            "needs_background": "light"
          }
        }
      ],
      "source": [
        "eror_list=[]\n",
        "for n in range(10,51,1):\n",
        "    \n",
        "    x=np.linspace(0,5,num=n)\n",
        "    y=func1(x)\n",
        "    A=np.vstack([x, np.ones(len(x))]).T\n",
        "    m, c = np.linalg.lstsq(A, y, rcond=None)[0]\n",
        "    estimated_y=m*x+c\n",
        "    eror=eror_cal(x,y,estimated_y)\n",
        "    eror_list.append(eror)\n",
        "\n",
        "n=np.linspace(10,50,num=41)\n",
        "\n",
        "plt.figure()\n",
        "plt.plot(n,eror_list)\n",
        "plt.title('eror vs number of generating points')"
      ],
      "id": "dPwUxgHITOfH"
    },
    {
      "cell_type": "markdown",
      "metadata": {
        "id": "d6aHJnsBS-3w"
      },
      "source": [
        "##**quadratic function analysis**"
      ],
      "id": "d6aHJnsBS-3w"
    },
    {
      "cell_type": "code",
      "execution_count": 9,
      "metadata": {
        "colab": {
          "base_uri": "https://localhost:8080/",
          "height": 286
        },
        "id": "tcrGcwVhRQQ2",
        "outputId": "a193a0d9-0cbb-44d6-99c0-5613683eecb6"
      },
      "outputs": [
        {
          "output_type": "execute_result",
          "data": {
            "text/plain": [
              "<matplotlib.legend.Legend at 0x7faeecdff4d0>"
            ]
          },
          "metadata": {},
          "execution_count": 9
        },
        {
          "output_type": "display_data",
          "data": {
            "text/plain": [
              "<Figure size 432x288 with 1 Axes>"
            ],
            "image/png": "[encoded data removed]"
          },
          "metadata": {
            "needs_background": "light"
          }
        }
      ],
      "source": [
        "x=np.linspace(0,5,num=10)\n",
        "y=func2(x)\n",
        "A=np.vstack([x**2,x, np.ones(len(x))]).T\n",
        "m1,m2, c = np.linalg.lstsq(A, y, rcond=None)[0]\n",
        "\n",
        "plt.figure()\n",
        "plt.scatter(x,y,color=\"red\")\n",
        "plt.plot(x,m1*x**2+m2*x+c,color=\"blue\")\n",
        "plt.legend([\"quadratic function\",\"estimated function\"])"
      ],
      "id": "tcrGcwVhRQQ2"
    },
    {
      "cell_type": "code",
      "execution_count": 10,
      "metadata": {
        "colab": {
          "base_uri": "https://localhost:8080/",
          "height": 298
        },
        "id": "Nm5OwM_tJ5sw",
        "outputId": "186c08dd-5871-4f55-c980-afd63d46f769"
      },
      "outputs": [
        {
          "output_type": "execute_result",
          "data": {
            "text/plain": [
              "Text(0.5, 1.0, 'eror vs number of generating points')"
            ]
          },
          "metadata": {},
          "execution_count": 10
        },
        {
          "output_type": "display_data",
          "data": {
            "text/plain": [
              "<Figure size 432x288 with 1 Axes>"
            ],
            "image/png": "[encoded data removed]"
          },
          "metadata": {
            "needs_background": "light"
          }
        }
      ],
      "source": [
        "eror_list=[]\n",
        "for n in range(10,51,1):\n",
        "    \n",
        "    x=np.linspace(0,5,num=n)\n",
        "    y=func2(x)\n",
        "    A=np.vstack([x**2,x, np.ones(len(x))]).T\n",
        "    m1,m2, c = np.linalg.lstsq(A, y, rcond=None)[0]\n",
        "    estimated_y=m1*x**2+m2*x+c\n",
        "    eror=eror_cal(x,y,estimated_y)\n",
        "    eror_list.append(eror)\n",
        "\n",
        "n=np.linspace(10,50,num=41)\n",
        "\n",
        "plt.figure()\n",
        "plt.plot(n,eror_list)\n",
        "plt.title('eror vs number of generating points')"
      ],
      "id": "Nm5OwM_tJ5sw"
    }
  ],
  "metadata": {
    "colab": {
      "provenance": []
    },
    "kernelspec": {
      "display_name": "Python 3.9.7 64-bit",
      "language": "python",
      "name": "python3"
    },
    "language_info": {
      "codemirror_mode": {
        "name": "ipython",
        "version": 3
      },
      "file_extension": ".py",
      "mimetype": "text/x-python",
      "name": "python",
      "nbconvert_exporter": "python",
      "pygments_lexer": "ipython3",
      "version": "3.9.7"
    },
    "vscode": {
      "interpreter": {
        "hash": "2da662e7b1c30472fdf8862138642a1af413fe6e4e58a7045047f9b81d51ab10"
      }
    }
  },
  "nbformat": 4,
  "nbformat_minor": 5
}